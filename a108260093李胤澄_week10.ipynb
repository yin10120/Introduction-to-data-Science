{
  "nbformat": 4,
  "nbformat_minor": 0,
  "metadata": {
    "colab": {
      "name": "a108260093李胤澄_week10.ipynb",
      "provenance": [],
      "include_colab_link": true
    },
    "kernelspec": {
      "name": "python3",
      "display_name": "Python 3"
    }
  },
  "cells": [
    {
      "cell_type": "markdown",
      "metadata": {
        "id": "view-in-github",
        "colab_type": "text"
      },
      "source": [
        "<a href=\"https://colab.research.google.com/github/yin10120/Introduction-to-data-Science/blob/master/a108260093%E6%9D%8E%E8%83%A4%E6%BE%84_week10.ipynb\" target=\"_parent\"><img src=\"https://colab.research.google.com/assets/colab-badge.svg\" alt=\"Open In Colab\"/></a>"
      ]
    },
    {
      "cell_type": "code",
      "metadata": {
        "id": "38AHcqYTxKPX",
        "colab_type": "code",
        "colab": {
          "base_uri": "https://localhost:8080/",
          "height": 51
        },
        "outputId": "f2f32657-0e02-4d54-c150-4384b6e58db3"
      },
      "source": [
        "score = int(input('請輸入一個成績?'))\n",
        "if score >= 60:\n",
        " print('well done')\n",
        " "
      ],
      "execution_count": 1,
      "outputs": [
        {
          "output_type": "stream",
          "text": [
            "請輸入一個成績?88\n",
            "well done\n"
          ],
          "name": "stdout"
        }
      ]
    },
    {
      "cell_type": "code",
      "metadata": {
        "id": "r-_goBK9xvQS",
        "colab_type": "code",
        "colab": {
          "base_uri": "https://localhost:8080/",
          "height": 51
        },
        "outputId": "e3cc628b-1410-40c2-a951-c542e900ed46"
      },
      "source": [
        "score = int(input('請輸入一個成績?'))\n",
        "if score >= 60:\n",
        "    print('有及格ㄡ~')\n",
        "else:\n",
        "    print('不及格ㄟ!')"
      ],
      "execution_count": 2,
      "outputs": [
        {
          "output_type": "stream",
          "text": [
            "請輸入一個成績?59\n",
            "不及格ㄟ!\n"
          ],
          "name": "stdout"
        }
      ]
    },
    {
      "cell_type": "code",
      "metadata": {
        "id": "ps_JH074x6YO",
        "colab_type": "code",
        "colab": {
          "base_uri": "https://localhost:8080/",
          "height": 51
        },
        "outputId": "3096f4b1-a202-486f-fbce-2d0c0667d360"
      },
      "source": [
        "score = int(input('請輸入一個成績?'))\n",
        "if score >= 80:\n",
        "    print('非常好')\n",
        "elif score >= 60:\n",
        "    print('不錯喔')\n",
        "else:\n",
        "    print('要加油')"
      ],
      "execution_count": 3,
      "outputs": [
        {
          "output_type": "stream",
          "text": [
            "請輸入一個成績?66\n",
            "不錯喔\n"
          ],
          "name": "stdout"
        }
      ]
    },
    {
      "cell_type": "code",
      "metadata": {
        "id": "YT_CEafux_N0",
        "colab_type": "code",
        "colab": {
          "base_uri": "https://localhost:8080/",
          "height": 68
        },
        "outputId": "ebeb1087-0c4f-4b47-ccef-788f58f69cf9"
      },
      "source": [
        "x = float(input('請輸入該點的X座標?')) #Input\n",
        "y = float(input('請輸入該點的Y座標?'))\n",
        "\n",
        "if (x > 0):\n",
        "  if (y > 0):\n",
        "    print('該點在第一象限') #X大於0,Y大於0\n",
        "  else:\n",
        "    print('該點在第四象限') #X大於0,Y小於0\n",
        "else:\n",
        "  if (y > 0):\n",
        "    print('該點在第二象限') #X小於0,Y大於0\n",
        "  else:\n",
        "    print('該點在第三象限') #X小於0,Y小於0"
      ],
      "execution_count": 4,
      "outputs": [
        {
          "output_type": "stream",
          "text": [
            "請輸入該點的X座標?1\n",
            "請輸入該點的Y座標?1\n",
            "該點在第一象限\n"
          ],
          "name": "stdout"
        }
      ]
    },
    {
      "cell_type": "code",
      "metadata": {
        "id": "9cRNaTNXyF_Y",
        "colab_type": "code",
        "colab": {
          "base_uri": "https://localhost:8080/",
          "height": 51
        },
        "outputId": "ea1ed5b5-3ecc-4559-cfcd-e16a91ddf316"
      },
      "source": [
        "cost = int(input('請輸入購買金額?'))\n",
        "if cost >= 2000:\n",
        "    print(cost * 0.9)\n",
        "else:\n",
        "    print(cost)"
      ],
      "execution_count": 5,
      "outputs": [
        {
          "output_type": "stream",
          "text": [
            "請輸入購買金額?2000\n",
            "1800.0\n"
          ],
          "name": "stdout"
        }
      ]
    },
    {
      "cell_type": "code",
      "metadata": {
        "id": "pkt6U5KlyOrp",
        "colab_type": "code",
        "colab": {
          "base_uri": "https://localhost:8080/",
          "height": 51
        },
        "outputId": "d5cbb6f1-33d9-44b7-d3e3-b1df3f27bec3"
      },
      "source": [
        "# 版本(一)\n",
        "num = int(input('請輸入一個整數?'))\n",
        "if num % 2 == 0: #餘數為0是偶數\n",
        "    print(num, '為偶數')\n",
        "else:\n",
        "    print(num, '為奇數')\n",
        "    "
      ],
      "execution_count": 6,
      "outputs": [
        {
          "output_type": "stream",
          "text": [
            "請輸入一個整數?1\n",
            "1 為奇數\n"
          ],
          "name": "stdout"
        }
      ]
    },
    {
      "cell_type": "code",
      "metadata": {
        "id": "Cmg3o2jcyVSW",
        "colab_type": "code",
        "colab": {
          "base_uri": "https://localhost:8080/",
          "height": 51
        },
        "outputId": "ed15da60-c8c8-4b43-e0ec-b08741da04ae"
      },
      "source": [
        "# 版本(二)\n",
        "num = int(input('請輸入一個整數?'))\n",
        "if num % 2 == 1: #餘數為1是奇數\n",
        "    print(num, '為奇數')\n",
        "else:\n",
        "    print(num, '為偶數')"
      ],
      "execution_count": 7,
      "outputs": [
        {
          "output_type": "stream",
          "text": [
            "請輸入一個整數?18\n",
            "18 為偶數\n"
          ],
          "name": "stdout"
        }
      ]
    },
    {
      "cell_type": "code",
      "metadata": {
        "id": "MVJdUw4cyaOM",
        "colab_type": "code",
        "colab": {}
      },
      "source": [
        ""
      ],
      "execution_count": 0,
      "outputs": []
    }
  ]
}