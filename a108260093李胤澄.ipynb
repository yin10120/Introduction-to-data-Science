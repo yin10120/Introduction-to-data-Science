{
  "nbformat": 4,
  "nbformat_minor": 0,
  "metadata": {
    "colab": {
      "name": "a108260093李胤澄.ipynb",
      "provenance": [],
      "include_colab_link": true
    },
    "kernelspec": {
      "name": "python3",
      "display_name": "Python 3"
    }
  },
  "cells": [
    {
      "cell_type": "markdown",
      "metadata": {
        "id": "view-in-github",
        "colab_type": "text"
      },
      "source": [
        "<a href=\"https://colab.research.google.com/github/yin10120/Introduction-to-data-Science/blob/master/a108260093%E6%9D%8E%E8%83%A4%E6%BE%84.ipynb\" target=\"_parent\"><img src=\"https://colab.research.google.com/assets/colab-badge.svg\" alt=\"Open In Colab\"/></a>"
      ]
    },
    {
      "cell_type": "code",
      "metadata": {
        "id": "Bgd2yImVqGb6",
        "colab_type": "code",
        "colab": {
          "base_uri": "https://localhost:8080/",
          "height": 51
        },
        "outputId": "4b306f9c-016b-4f2e-eeec-68598ab77695"
      },
      "source": [
        "answer = \"b246\"\n",
        "\n",
        "while True:\n",
        "    password = input(\"Enter your password \")\n",
        "    if password == answer:\n",
        "        print(\"Enter The System\")\n",
        "        break\n",
        "    else:\n",
        "        print(\"try again\")   "
      ],
      "execution_count": 6,
      "outputs": [
        {
          "output_type": "stream",
          "text": [
            "Enter your password b246\n",
            "Enter The System\n"
          ],
          "name": "stdout"
        }
      ]
    }
  ]
}