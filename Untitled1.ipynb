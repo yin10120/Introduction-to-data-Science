{
  "nbformat": 4,
  "nbformat_minor": 0,
  "metadata": {
    "colab": {
      "name": "Untitled1.ipynb",
      "provenance": [],
      "include_colab_link": true
    },
    "kernelspec": {
      "name": "python3",
      "display_name": "Python 3"
    }
  },
  "cells": [
    {
      "cell_type": "markdown",
      "metadata": {
        "id": "view-in-github",
        "colab_type": "text"
      },
      "source": [
        "<a href=\"https://colab.research.google.com/github/yin10120/Introduction-to-data-Science/blob/master/Untitled1.ipynb\" target=\"_parent\"><img src=\"https://colab.research.google.com/assets/colab-badge.svg\" alt=\"Open In Colab\"/></a>"
      ]
    },
    {
      "cell_type": "code",
      "metadata": {
        "id": "XDPPlyfoSKEZ",
        "colab_type": "code",
        "colab": {
          "base_uri": "https://localhost:8080/",
          "height": 119
        },
        "outputId": "2c1caf9e-b209-41bf-9e3f-2c6232051a01"
      },
      "source": [
        ""
      ],
      "execution_count": 2,
      "outputs": [
        {
          "output_type": "stream",
          "text": [
            "請問貴姓大名?sam\n",
            "你好, sam\n",
            "請問年紀?19\n",
            "原來你 19 歲\n",
            "請問體重?80\n",
            "體重為 80.0\n"
          ],
          "name": "stdout"
        }
      ]
    },
    {
      "cell_type": "code",
      "metadata": {
        "id": "hOPjrSWeTo-n",
        "colab_type": "code",
        "colab": {
          "base_uri": "https://localhost:8080/",
          "height": 102
        },
        "outputId": "651e9b55-a9cd-4e15-88ab-670302c2925b"
      },
      "source": [
        "第一次期中考 = int(input('請輸入第一次成績?'))\n",
        "第二次期中考 = int(input('請輸入第二次成績?'))\n",
        "期末成績 = int(input('請輸入期末成績?'))\n",
        "總分 = 第一次期中考+ 第二次期中考+期末成績\n",
        "print('成績總分',總分 )\n",
        "print('平均',總分/3)"
      ],
      "execution_count": 13,
      "outputs": [
        {
          "output_type": "stream",
          "text": [
            "請輸入第一次成績?75\n",
            "請輸入第二次成績?80\n",
            "請輸入期末成績?65\n",
            "成績總分 220\n",
            "平均 73.33333333333333\n"
          ],
          "name": "stdout"
        }
      ]
    },
    {
      "cell_type": "code",
      "metadata": {
        "id": "00uZLbtEUEwz",
        "colab_type": "code",
        "colab": {
          "base_uri": "https://localhost:8080/",
          "height": 68
        },
        "outputId": "86663e7d-a068-4e78-da1e-8c176a983a39"
      },
      "source": [
        "尺 = int(input('請輸入尺?'))\n",
        "吋 = int(input('請輸入吋?'))\n",
        "公分 =((尺*12+8)*2.54)\n",
        "print('公分',公分)"
      ],
      "execution_count": 14,
      "outputs": [
        {
          "output_type": "stream",
          "text": [
            "請輸入尺?5\n",
            "請輸入吋?8\n",
            "公分 172.72\n"
          ],
          "name": "stdout"
        }
      ]
    },
    {
      "cell_type": "code",
      "metadata": {
        "id": "ou7fVI67UJ_6",
        "colab_type": "code",
        "colab": {
          "base_uri": "https://localhost:8080/",
          "height": 34
        },
        "outputId": "758077cc-befc-4c13-83de-9af62756824f"
      },
      "source": [
        "輸入座號=int(input('請輸入座號'))\n",
        "\n",
        "print=('組別',)\n"
      ],
      "execution_count": 23,
      "outputs": [
        {
          "output_type": "stream",
          "text": [
            "請輸入座號9\n"
          ],
          "name": "stdout"
        }
      ]
    },
    {
      "cell_type": "code",
      "metadata": {
        "id": "KI2jGfxaUTu0",
        "colab_type": "code",
        "colab": {
          "base_uri": "https://localhost:8080/",
          "height": 102
        },
        "outputId": "70f7401e-6c77-4390-ed88-2de201f219f4"
      },
      "source": [
        "\n",
        "money = int(input('請輸入本金?'))\n",
        "interest = float(input('請輸入年利率(%)?'))\n",
        "y1 = money * (1 + interest/100)\n",
        "y2 = money * ((1 + interest/100) ** 2)\n",
        "y3 = money * ((1 + interest/100) ** 3)\n",
        "print('第一年本利和為', y1)\n",
        "print('第二年本利和為', y2)\n",
        "print('第三年本利和為', y3)"
      ],
      "execution_count": 6,
      "outputs": [
        {
          "output_type": "stream",
          "text": [
            "請輸入本金?4582\n",
            "請輸入年利率(%)?453\n",
            "第一年本利和為 25338.460000000003\n",
            "第二年本利和為 140121.68380000003\n",
            "第三年本利和為 774872.9114140001\n"
          ],
          "name": "stdout"
        }
      ]
    },
    {
      "cell_type": "code",
      "metadata": {
        "id": "Cioefo8VUo_a",
        "colab_type": "code",
        "colab": {
          "base_uri": "https://localhost:8080/",
          "height": 51
        },
        "outputId": "95ba3e52-5083-475e-b9d9-56ed9dc6974f"
      },
      "source": [
        "s = input('請輸入一個字串?')\n",
        "print('迴文判斷結果為', s == s[::-1])"
      ],
      "execution_count": 7,
      "outputs": [
        {
          "output_type": "stream",
          "text": [
            "請輸入一個字串?sam is a real gay\n",
            "迴文判斷結果為 False\n"
          ],
          "name": "stdout"
        }
      ]
    },
    {
      "cell_type": "code",
      "metadata": {
        "id": "OEcxffi1Uu_V",
        "colab_type": "code",
        "colab": {
          "base_uri": "https://localhost:8080/",
          "height": 85
        },
        "outputId": "407457db-3b2e-40ab-8764-6b3efd89df96"
      },
      "source": [
        "# 1. 變數初始化為分鐘數\n",
        "minutes_to_convert = 123\n",
        "# 2. 變數轉換為小時數\n",
        "hours_decimal = minutes_to_convert/60 #數學運算除以60\n",
        "hours_part = int(hours_decimal) #將浮點數結果轉換變數型別為整數\n",
        "# 3. 取得轉換後的分鐘數\n",
        "minutes_decimal = hours_decimal-hours_part #浮點數減整數取得小數\n",
        "minutes_part = round(minutes_decimal*60) #數學運算乘60得分鐘數,在此要四捨五入才行\n",
        "# 4. 顯示結果\n",
        "print(\"Hours\")\n",
        "print(hours_part)\n",
        "print(\"Minutes\")\n",
        "print(minutes_part)"
      ],
      "execution_count": 8,
      "outputs": [
        {
          "output_type": "stream",
          "text": [
            "Hours\n",
            "2\n",
            "Minutes\n",
            "3\n"
          ],
          "name": "stdout"
        }
      ]
    },
    {
      "cell_type": "code",
      "metadata": {
        "id": "Ez6Vh7zDU8K-",
        "colab_type": "code",
        "colab": {
          "base_uri": "https://localhost:8080/",
          "height": 85
        },
        "outputId": "38b5538a-d127-4ce0-937a-b4d70a2d9fc1"
      },
      "source": [
        "# initializing\n",
        "minutes_to_convert = 123\n",
        "# getting the whole number of hours\n",
        "hours_decimal = minutes_to_convert/60\n",
        "hours_part = int(hours_decimal)\n",
        "#getting the whole number of minutes\n",
        "#下列餘數運算可以取得轉換後的分鐘數\n",
        "minutes_part = minutes_to_convert%60\n",
        "# printing the result\n",
        "print(\"Hours\")\n",
        "print(hours_part)\n",
        "print(\"Minutes\")\n",
        "print(minutes_part)"
      ],
      "execution_count": 9,
      "outputs": [
        {
          "output_type": "stream",
          "text": [
            "Hours\n",
            "2\n",
            "Minutes\n",
            "3\n"
          ],
          "name": "stdout"
        }
      ]
    },
    {
      "cell_type": "code",
      "metadata": {
        "id": "7YRMs9jwVEa5",
        "colab_type": "code",
        "colab": {}
      },
      "source": [
        ""
      ],
      "execution_count": 0,
      "outputs": []
    }
  ]
}